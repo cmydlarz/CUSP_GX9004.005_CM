{
 "cells": [
  {
   "cell_type": "markdown",
   "metadata": {},
   "source": [
    "# Hardware/Sensor Design & Data Collection - Assignment"
   ]
  },
  {
   "cell_type": "markdown",
   "metadata": {},
   "source": [
    "**Due date is 5pm on June 1st**"
   ]
  },
  {
   "cell_type": "markdown",
   "metadata": {},
   "source": [
    "**Each person submits their own code, accompanying audio files and writeup as a Jupyter Notebook**"
   ]
  },
  {
   "cell_type": "markdown",
   "metadata": {},
   "source": [
    "Your task is to create a semi smart acquisition platform for urban sound data. This platform should log to file the time stamped RMS amplitude of its surrounding sound environment continuously at a time resolution of your choosing. It should also collect audio files, but only those with sufficient amplitude above the ambient amplitude. These audio files should be at least 1 second in length **(5)**.\n",
    "<br><br>\n",
    "You need to capture data over a 12 hour period, ideally from an outdoor environment to increase the variation in captured sound sources. These 12 hours should cover periods of high and low urban actvity, eg. rush hour and very early morning. If this is your only computer, an over night period may be best.\n",
    "<br><br>\n",
    "   * You should explain your system **(5)**, including all of the possible sources of error and inaccuracies **(5)**\n",
    "       * Provide images of its location **(5)**\n",
    "       * Describe the average acoustic conditions around the system **(5)**\n",
    "   <br><br>\n",
    "   * Plot all RMS amplitude data, (without resorting to plotting the entire dataset) and comment on its temporal evolution as it relates to urban noise **(total 15)**:\n",
    "       * Y-axis should show RMS with a range of 0.0 to +1.0 **(5)**\n",
    "       * X-axis should be a human-readable time format **(5)**\n",
    "       * **All** audio events captured (see below) should have their start and end points marked and labelled **(5)**\n",
    "   <br><br>\n",
    "   * Select a few interesting captured audio recordings and for each **(total 40)**:\n",
    "       * Plot its time domain representation and comment on its amplitude evolution **(10)**\n",
    "       * Plot the Fourier Transform of the entire file using a logarithmic X-axis and comment on it **(10)**\n",
    "       * Plot its spectrogram with time in seconds on the X-axis and comment on it **(10)**\n",
    "       * Label all plots using the correct variable and format for each scale, eg. time in seconds, frequency in Hz, etc. **(5)**\n",
    "       * Any comments made should consider urban noise and why certain sound sources may be perceived as more annoying **(5)**\n",
    "\n",
    "\n",
    "<br><br>\n",
    "**Notes:**\n",
    "   * Make sure to turn off any active/auto noise cancellation settings on your recording device\n",
    "   * Adjust the microphones input gain so you don't observe a distrorted or too quiet recorded signal\n",
    "   * If possible use an external microphone so that it can more easily pickup external sounds\n",
    "   * Make a number of test recordings of RMS data and audio to ensure the system is functional and collecting usable data before beginning the extended recording period\n",
    "   * Your smart recorder script must run on my Macbook\n",
    "   * All code must be clearly commented **(5)**\n",
    "<br><br>\n",
    "\n",
    "**I can be contacted at: cmydlarz@nyu.edu**"
   ]
  },
  {
   "cell_type": "code",
   "execution_count": null,
   "metadata": {
    "collapsed": true
   },
   "outputs": [],
   "source": []
  }
 ],
 "metadata": {
  "kernelspec": {
   "display_name": "Python 2",
   "language": "python",
   "name": "python2"
  },
  "language_info": {
   "codemirror_mode": {
    "name": "ipython",
    "version": 2
   },
   "file_extension": ".py",
   "mimetype": "text/x-python",
   "name": "python",
   "nbconvert_exporter": "python",
   "pygments_lexer": "ipython2",
   "version": "2.7.9"
  }
 },
 "nbformat": 4,
 "nbformat_minor": 0
}
